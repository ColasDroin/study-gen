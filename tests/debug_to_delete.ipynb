{
  "cells": [
    {
      "cell_type": "code",
      "execution_count": 1,
      "metadata": {},
      "outputs": [
        {
          "ename": "ModuleNotFoundError",
          "evalue": "No module named 'yaml'",
          "output_type": "error",
          "traceback": [
            "\u001b[0;31m---------------------------------------------------------------------------\u001b[0m",
            "\u001b[0;31mModuleNotFoundError\u001b[0m                       Traceback (most recent call last)",
            "Cell \u001b[0;32mIn[1], line 1\u001b[0m\n\u001b[0;32m----> 1\u001b[0m \u001b[38;5;28;01mimport\u001b[39;00m \u001b[38;5;21;01myaml\u001b[39;00m\n",
            "\u001b[0;31mModuleNotFoundError\u001b[0m: No module named 'yaml'"
          ]
        }
      ],
      "source": [
        "import yaml"
      ]
    },
    {
      "cell_type": "code",
      "execution_count": null,
      "metadata": {},
      "outputs": [
        {
          "data": {
            "text/plain": [
              "{'config_dummy': {'a': 2, 'b': 10, 'c': 256}}"
            ]
          },
          "execution_count": 2,
          "metadata": {},
          "output_type": "execute_result"
        }
      ],
      "source": [
        "# Read configuration\n",
        "with open(\"config.yaml\", \"r\") as f:\n",
        "    config = yaml.load(f, Loader=yaml.FullLoader)\n",
        "\n",
        "config\n"
      ]
    },
    {
      "cell_type": "code",
      "execution_count": null,
      "metadata": {},
      "outputs": [
        {
          "data": {
            "text/plain": [
              "{'gen1': {'script': ['do_operations', 'print_output']}}"
            ]
          },
          "execution_count": 3,
          "metadata": {},
          "output_type": "execute_result"
        }
      ],
      "source": [
        "# Read master\n",
        "with open(\"master.yaml\", \"r\") as f:\n",
        "    master = yaml.load(f, Loader=yaml.FullLoader)\n",
        "    \n",
        "master\n"
      ]
    },
    {
      "cell_type": "code",
      "execution_count": null,
      "metadata": {},
      "outputs": [
        {
          "data": {
            "text/plain": [
              "{'do_operations': {'script': ['add', 'multiply', 'power', 'factorial']},\n",
              " 'print_output': {'script': ['print_result']}}"
            ]
          },
          "execution_count": 4,
          "metadata": {},
          "output_type": "execute_result"
        }
      ],
      "source": [
        "# Read recipes\n",
        "with open(\"recipes.yaml\", \"r\") as f:\n",
        "    recipes = yaml.load(f, Loader=yaml.FullLoader)\n",
        "\n",
        "recipes"
      ]
    },
    {
      "cell_type": "code",
      "execution_count": null,
      "metadata": {},
      "outputs": [
        {
          "name": "stdout",
          "output_type": "stream",
          "text": [
            "Now browsing generation: gen1\n",
            "Now browsing recipe: do_operations\n",
            "['add', 'multiply', 'power', 'factorial']\n",
            "Now browsing recipe: print_output\n",
            "['print_result']\n",
            "\n"
          ]
        }
      ],
      "source": [
        "for gen in sorted(master.keys()):\n",
        "    print(\"Now browsing generation: \" + gen)\n",
        "    for recipe in master[gen]['script']:\n",
        "        print(\"Now browsing recipe: \" + recipe)\n",
        "        print(recipes[recipe]['script'])\n",
        "    print()"
      ]
    },
    {
      "cell_type": "code",
      "execution_count": null,
      "metadata": {},
      "outputs": [
        {
          "name": "stdout",
          "output_type": "stream",
          "text": [
            "*********\n",
            "def power_function(b: int, c: int) -> int:\n",
            "    # Returns a at the power of b\n",
            "    return np.power(b, c)\n",
            "\n",
            "*********\n",
            "output_power\n",
            "*********\n",
            "int\n",
            "*********\n",
            "power_function(b, c)\n",
            "*********\n",
            "output_power = power_function(b, c)\n",
            "*********\n",
            "(b: int, c: int) -> int\n",
            "*********\n",
            "OrderedDict([('b', <class 'int'>), ('c', <class 'int'>)])\n",
            "*********\n",
            "{'numpy': 'np'}\n",
            "*********\n"
          ]
        }
      ],
      "source": [
        "# Try get function code\n",
        "from src import power\n",
        "\n",
        "print('*********')\n",
        "print(power.get_str())\n",
        "print('*********')\n",
        "print(power.get_output_str())\n",
        "print('*********')\n",
        "print(power.get_output_type_hint_str())\n",
        "print('*********')\n",
        "print(power.get_call_str())\n",
        "print('*********')\n",
        "print(power.get_assignation_call_str())\n",
        "print('*********')\n",
        "print(power.get_signature())\n",
        "print('*********')\n",
        "print(power.parameters)\n",
        "print('*********')\n",
        "print(power.dict_imports)\n",
        "print('*********')\n",
        "\n"
      ]
    },
    {
      "cell_type": "code",
      "execution_count": null,
      "metadata": {},
      "outputs": [
        {
          "name": "stdout",
          "output_type": "stream",
          "text": [
            "Now browsing generation: gen1\n",
            "\n",
            "\n",
            "Now browsing recipe: do_operations\n",
            "\n",
            "Now browsing block: add\n",
            "Now browsing block: multiply\n",
            "Now browsing block: power\n",
            "Now browsing block: factorial\n",
            "Now browsing recipe: print_output\n",
            "\n",
            "Now browsing block: print_result\n"
          ]
        }
      ],
      "source": [
        "# Generate all blocks in a file\n",
        "import src.blocks as blocks\n",
        "from jinja2 import Environment\n",
        "\n",
        "# Generate all blocks\n",
        "file_path = \"output_jinja_test_gen1.py\"\n",
        "for gen in sorted(master.keys()):\n",
        "    print(\"Now browsing generation: \" + gen)\n",
        "    print('\\n')\n",
        "    dic_blocks = {}\n",
        "    for recipe in master[gen]['script']:\n",
        "        print(\"Now browsing recipe: \" + recipe)\n",
        "        print('')\n",
        "        for block in recipes[recipe]['script']:\n",
        "            print(\"Now browsing block: \" + block)\n",
        "            dic_blocks[block] = getattr(blocks,block)\n",
        "            \n",
        "            \n",
        "# Build template with all blocks separated by \\n\n",
        "dic_blocks_str = {k: v.get_str() for k,v in dic_blocks.items()}\n",
        "str_jinja = \"\\n\".join([f\"{{{{{k}}}}}\" for k in dic_blocks.keys()])\n",
        "template = Environment().from_string(str_jinja)\n",
        "with open(file_path, \"w\") as f:\n",
        "    f.write(template.render(**dic_blocks_str))\n",
        "                "
      ]
    },
    {
      "cell_type": "code",
      "execution_count": null,
      "metadata": {},
      "outputs": [],
      "source": [
        "# Try merging blocks\n",
        "\n",
        "# Add takes a and b and returns output_add\n",
        "# Power takes b and c and returns output_power\n",
        "# Let's add to output c instead of output add\n",
        "from typing import OrderedDict\n",
        "\n",
        "dic_blocks[\"add\"].output = OrderedDict([(\"c\", dic_blocks[\"add\"].output[\"output_add\"])])\n",
        "\n",
        "add_power = dic_blocks[\"add\"].merge_block(\n",
        "    dic_blocks[\"power\"],\n",
        "    \"add_power\",\n",
        "    docstring=\"Test with long docstring\",\n",
        "    output = dic_blocks[\"power\"].output,\n",
        ")"
      ]
    },
    {
      "cell_type": "code",
      "execution_count": null,
      "metadata": {},
      "outputs": [
        {
          "name": "stdout",
          "output_type": "stream",
          "text": [
            "*********\n",
            "def add_power(a: int, b: int) -> int:\n",
            "    \"\"\"Test with long docstring\n",
            "    \"\"\"\n",
            "\n",
            "    c = add_function(a, b)\n",
            "    output_power = power_function(b, c)\n",
            "    return output_power\n",
            "\n",
            "*********\n",
            "output_power\n",
            "*********\n",
            "int\n",
            "*********\n",
            "add_power(a, b)\n",
            "*********\n",
            "output_power = add_power(a, b)\n",
            "*********\n",
            "(a: int, b: int) -> int\n",
            "*********\n",
            "OrderedDict([('a', <class 'int'>), ('b', <class 'int'>)])\n",
            "*********\n",
            "OrderedDict([('numpy', 'np')])\n",
            "*********\n",
            "{'power_function', 'add_function'}\n"
          ]
        }
      ],
      "source": [
        "print('*********')\n",
        "print(add_power.get_str())\n",
        "print('*********')\n",
        "print(add_power.get_output_str())\n",
        "print('*********')\n",
        "print(add_power.get_output_type_hint_str())\n",
        "print('*********')\n",
        "print(add_power.get_call_str())\n",
        "print('*********')\n",
        "print(add_power.get_assignation_call_str())\n",
        "print('*********')\n",
        "print(add_power.get_signature())\n",
        "print('*********')\n",
        "print(add_power.parameters)\n",
        "print('*********')\n",
        "print(add_power.dict_imports)\n",
        "print('*********')\n",
        "print(add_power.set_deps)\n"
      ]
    },
    {
      "cell_type": "code",
      "execution_count": null,
      "metadata": {},
      "outputs": [
        {
          "name": "stdout",
          "output_type": "stream",
          "text": [
            "OrderedDict([('c', <class 'int'>)])\n"
          ]
        }
      ],
      "source": [
        "print(dic_blocks[\"add\"].output)"
      ]
    },
    {
      "cell_type": "code",
      "execution_count": null,
      "metadata": {},
      "outputs": [],
      "source": [
        "# Now with several blocks\n",
        "from src import Block\n",
        "\n",
        "dic_blocks[\"add\"].parameters = OrderedDict([(\"a\", dic_blocks[\"add\"].output[\"c\"]), (\"output_factorial\", dic_blocks[\"factorial\"].output[\"output_factorial\"])])\n",
        "dic_blocks[\"multiply\"].output = OrderedDict([(\"c\", dic_blocks[\"multiply\"].output[\"output_multiply\"])])\n",
        "dic_blocks[\"power\"].output = OrderedDict([(\"d\", dic_blocks[\"power\"].output[\"output_power\"])])\n",
        "dic_blocks[\"print_result\"]\n",
        "\n",
        "test_multiple = Block.merge_blocks(\n",
        "    [dic_blocks[\"factorial\"], dic_blocks[\"add\"], dic_blocks[\"multiply\"], dic_blocks[\"power\"], dic_blocks[\"print_result\"]],\n",
        "    \"test_multiple_blocks\",\n",
        "    docstring=\"This function contains many blocks\",\n",
        "    output = dic_blocks[\"power\"].output,\n",
        ")"
      ]
    },
    {
      "cell_type": "code",
      "execution_count": null,
      "metadata": {},
      "outputs": [
        {
          "name": "stdout",
          "output_type": "stream",
          "text": [
            "*********\n",
            "def test_multiple_blocks(a: int, b: int) -> int:\n",
            "    \"\"\"This function contains many blocks\n",
            "    \"\"\"\n",
            "\n",
            "    output_factorial = gamma_function(a)\n",
            "    c = add_function(a, output_factorial)\n",
            "    c = multiply_function(a, b)\n",
            "    d = power_function(b, c)\n",
            "    print_result_function(d)\n",
            "    return d\n",
            "\n",
            "*********\n",
            "def add_function(a: int, output_factorial: int) -> int:\n",
            "    \"\"\"Dummy docstring\n",
            "    \"\"\"\n",
            "    b = output_factorial\n",
            "    \n",
            "    # Add a and b\n",
            "    return a + b\n",
            "\n",
            "*********\n",
            "d\n",
            "*********\n",
            "int\n",
            "*********\n",
            "test_multiple_blocks(a, b)\n",
            "*********\n",
            "d = test_multiple_blocks(a, b)\n",
            "*********\n",
            "(a: int, b: int) -> int\n",
            "*********\n",
            "OrderedDict([('a', <class 'int'>), ('b', <class 'int'>)])\n",
            "*********\n",
            "OrderedDict([('math', 'math'), ('numpy', 'np')])\n",
            "*********\n",
            "{'add_function', 'multiply_function', 'gamma_function', 'power_function', 'print_result_function'}\n"
          ]
        }
      ],
      "source": [
        "print('*********')\n",
        "print(test_multiple.get_str())\n",
        "print('*********')\n",
        "print(dic_blocks[\"add\"].get_str())\n",
        "print('*********')\n",
        "print(test_multiple.get_output_str())\n",
        "print('*********')\n",
        "print(test_multiple.get_output_type_hint_str())\n",
        "print('*********')\n",
        "print(test_multiple.get_call_str())\n",
        "print('*********')\n",
        "print(test_multiple.get_assignation_call_str())\n",
        "print('*********')\n",
        "print(test_multiple.get_signature())\n",
        "print('*********')\n",
        "print(test_multiple.parameters)\n",
        "print('*********')\n",
        "print(test_multiple.dict_imports)\n",
        "print('*********')\n",
        "print(test_multiple.set_deps)"
      ]
    },
    {
      "cell_type": "code",
      "execution_count": null,
      "metadata": {},
      "outputs": [],
      "source": []
    },
    {
      "cell_type": "code",
      "execution_count": null,
      "metadata": {},
      "outputs": [
        {
          "ename": "",
          "evalue": "",
          "output_type": "error",
          "traceback": [
            "\u001b[1;31mThe kernel failed to start as the Python Environment '.venv' is no longer available. Consider selecting another kernel or refreshing the list of Python Environments."
          ]
        }
      ],
      "source": [
        "import blocks"
      ]
    },
    {
      "cell_type": "code",
      "execution_count": 2,
      "metadata": {},
      "outputs": [
        {
          "data": {
            "text/plain": [
              "{'save_npy': <study_gen.block.Block at 0x1096d3560>,\n",
              " 'add': <study_gen.block.Block at 0x109720050>,\n",
              " 'save_pkl': <study_gen.block.Block at 0x10ca87500>,\n",
              " 'load_npy': <study_gen.block.Block at 0x10ce7f980>,\n",
              " 'multiply': <study_gen.block.Block at 0x10ce7f5c0>,\n",
              " 'print_result': <study_gen.block.Block at 0x10924af30>,\n",
              " 'power': <study_gen.block.Block at 0x10cf09b50>,\n",
              " 'gamma': <study_gen.block.Block at 0x10cf0b0e0>}"
            ]
          },
          "execution_count": 2,
          "metadata": {},
          "output_type": "execute_result"
        }
      ],
      "source": [
        "from blocks import dic_blocks\n",
        "dic_blocks"
      ]
    },
    {
      "cell_type": "code",
      "execution_count": null,
      "metadata": {},
      "outputs": [
        {
          "data": {
            "text/plain": [
              "<module 'blocks.gamma' from '/Users/macbe16879/Desktop/study-gen/prototyping/simple/blocks/gamma.py'>"
            ]
          },
          "execution_count": 11,
          "metadata": {},
          "output_type": "execute_result"
        },
        {
          "ename": "",
          "evalue": "",
          "output_type": "error",
          "traceback": [
            "\u001b[1;31mnotebook controller is DISPOSED. \n",
            "\u001b[1;31mView Jupyter <a href='command:jupyter.viewOutput'>log</a> for further details."
          ]
        }
      ],
      "source": [
        "blocks.gamma"
      ]
    },
    {
      "cell_type": "code",
      "execution_count": null,
      "metadata": {},
      "outputs": [],
      "source": []
    },
    {
      "cell_type": "code",
      "execution_count": null,
      "metadata": {},
      "outputs": [],
      "source": []
    }
  ],
  "metadata": {
    "kernelspec": {
      "display_name": "study-gen-WrXRd6Hs-py3.11",
      "language": "python",
      "name": "python3"
    },
    "language_info": {
      "codemirror_mode": {
        "name": "ipython",
        "version": 3
      },
      "file_extension": ".py",
      "mimetype": "text/x-python",
      "name": "python",
      "nbconvert_exporter": "python",
      "pygments_lexer": "ipython3",
      "version": "3.11.6"
    }
  },
  "nbformat": 4,
  "nbformat_minor": 2
}
